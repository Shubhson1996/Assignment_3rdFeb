{
 "cells": [
  {
   "attachments": {},
   "cell_type": "markdown",
   "metadata": {},
   "source": [
    "1.\n",
    "def is used to creat a function."
   ]
  },
  {
   "cell_type": "code",
   "execution_count": null,
   "metadata": {},
   "outputs": [],
   "source": [
    "#Odd numbers in the range of 1 to 25.\n",
    "\n",
    "l= list(range(1,25+1))\n",
    "l1=[]\n",
    "def odd_numbers():\n",
    "    for i in l:\n",
    "        if i %2 !=0:\n",
    "            l1.append(i)\n",
    "    return l1"
   ]
  },
  {
   "attachments": {},
   "cell_type": "markdown",
   "metadata": {},
   "source": [
    "2.\n",
    "We use *args and **kwargs as an argument when we are unsure about the number of arguments to pass in the functions."
   ]
  },
  {
   "cell_type": "code",
   "execution_count": null,
   "metadata": {},
   "outputs": [],
   "source": [
    "def test1(*args):\n",
    "    return args\n",
    "\n",
    "test1(\"data\", \"science\",\"masters\")"
   ]
  },
  {
   "cell_type": "code",
   "execution_count": null,
   "metadata": {},
   "outputs": [],
   "source": [
    "#**kwargs used for n number of keys, values pair.\n",
    "def test2(**kwargs):\n",
    "    return kwargs\n",
    "\n",
    "test2(name=\"shubham\",course=\"data science masters\")"
   ]
  },
  {
   "attachments": {},
   "cell_type": "markdown",
   "metadata": {},
   "source": [
    "3.\n",
    "Iterator is an object that is used to iterate over iterable objects like lists, tuples, dicts, and sets. The iterator object is initialized using the iter() method. and next() method used for iteration."
   ]
  },
  {
   "cell_type": "code",
   "execution_count": null,
   "metadata": {},
   "outputs": [],
   "source": [
    "l=[2,4,6,8,10,12,14,16,18,20]\n",
    "l1= iter(l)\n",
    "print(next(l1))\n",
    "print(next(l1))\n",
    "print(next(l1))\n",
    "print(next(l1))\n",
    "print(next(l1))"
   ]
  },
  {
   "attachments": {},
   "cell_type": "markdown",
   "metadata": {},
   "source": [
    "4.\n",
    "a generator is a function that returns an iterator that produces a sequence of values when iterated over. and yield keyword is used to create a generator function."
   ]
  },
  {
   "cell_type": "code",
   "execution_count": null,
   "metadata": {},
   "outputs": [],
   "source": [
    "#Example of generator function:\n",
    "def test(n):\n",
    "    a,b=0,1\n",
    "    for i in range(n):\n",
    "        yield a\n",
    "        a,b=b, a+b \n",
    "\n",
    "for i in test(10):\n",
    "    print(i)  "
   ]
  },
  {
   "cell_type": "code",
   "execution_count": null,
   "metadata": {},
   "outputs": [],
   "source": [
    "5. \n",
    "#Generator function for prime number. \n",
    "def prime_number():\n",
    "    for i in range(2,1000):\n",
    "         if i> 1:\n",
    "             for j in range(2,i):\n",
    "                if i%j ==0:\n",
    "                    break\n",
    "             else:\n",
    "                yield i\n",
    "\n",
    "l= prime_number()\n",
    "for i in range(20):\n",
    "    print(next(l))"
   ]
  },
  {
   "cell_type": "code",
   "execution_count": null,
   "metadata": {},
   "outputs": [],
   "source": [
    "6. \n",
    "# Fibonacci number using while loop. \n",
    "number= 10\n",
    "a,b= 0,1\n",
    "counter=0\n",
    "while counter < number:\n",
    "    print(a)\n",
    "    c= a+b\n",
    "    a=b\n",
    "    b=c\n",
    "    counter=counter+1"
   ]
  },
  {
   "cell_type": "code",
   "execution_count": null,
   "metadata": {},
   "outputs": [],
   "source": [
    "7. \n",
    "s= \"pwskills\"\n",
    "[i for i in s]"
   ]
  },
  {
   "cell_type": "code",
   "execution_count": null,
   "metadata": {},
   "outputs": [],
   "source": [
    "8. \n",
    "#Check whether given number is palindrome or not. \n",
    "n= int(input(\"Enter the number:\"))\n",
    "number = n\n",
    "reverse=0\n",
    "while n >0:\n",
    "    i = n %10\n",
    "    reverse= reverse*10 + i\n",
    "    n= n //10\n",
    "\n",
    "if number == reverse:\n",
    "    print(\"Given number is a palindrome.\")\n",
    "else:\n",
    "    print(\"Given number is not a palindrome.\")"
   ]
  },
  {
   "cell_type": "code",
   "execution_count": null,
   "metadata": {},
   "outputs": [],
   "source": [
    "9. \n",
    "#filter odd numbers. \n",
    "l= [i for i in range(1,100+1)]\n",
    "\n",
    "odd_num=list(filter(lambda a: a%2 != 0, l))\n",
    "odd_num"
   ]
  }
 ],
 "metadata": {
  "kernelspec": {
   "display_name": "Python 3",
   "language": "python",
   "name": "python3"
  },
  "language_info": {
   "codemirror_mode": {
    "name": "ipython",
    "version": 3
   },
   "file_extension": ".py",
   "mimetype": "text/x-python",
   "name": "python",
   "nbconvert_exporter": "python",
   "pygments_lexer": "ipython3",
   "version": "3.11.1"
  },
  "orig_nbformat": 4,
  "vscode": {
   "interpreter": {
    "hash": "6662073f3bde6be334dec329a6c9947da37b6bb749f0724ccca866176f72e3b8"
   }
  }
 },
 "nbformat": 4,
 "nbformat_minor": 2
}
